{
 "cells": [
  {
   "cell_type": "markdown",
   "metadata": {
    "id": "U3iB1cs-oB0M"
   },
   "source": [
    "# What Makes a Great Disc Golfer?\n",
    "by Daniel Weiss"
   ]
  },
  {
   "cell_type": "markdown",
   "metadata": {
    "id": "p54AxlVkoZlJ"
   },
   "source": [
    "# Introduction"
   ]
  },
  {
   "cell_type": "markdown",
   "metadata": {
    "id": "pWLk_dEyKoQW"
   },
   "source": [
    "The world has changed drastically over the past year and a half, but not \n",
    "all of that change has been negative. Disc golf is a sport which has seen tremendous growth recently, in large part due to the restrictions of the pandemic. In case you have been living under a [Roc](https://www.innovadiscs.com/disc/roc/), you can take a look at the Professional Disc Golf Association's (PDGA's) [beginner's guide](https://www.pdga.com/news/what-disc-golf-guide-parents-kids) which explains the basics of the game of disc golf and how it compares to traditional ball golf. \n",
    "\n",
    "Just like most sports, there are people who dedicate their lives to competing at a professional level in the sport they love, and disc golf is surely not an exception. During the rapid growth of disc golf, the professional disc golf scene has seen increased interest as well. When watching professional disc golfers play people often wonder what sets the top disc golfers apart from other professionals, so that they can try to translate that into their own game. \n",
    "\n",
    "In this analysis we'll use the data science pipeline to try to figure out what kind of factors are important in making professional disc golfers so good to see what sets the top professionals apart from the rest. The [data science pipeline](https://towardsdatascience.com/a-beginners-guide-to-the-data-science-pipeline-a4904b2d8ad3) is essentially a set of steps that allow us to take raw data sets and answer questions that we may have pertaining to the data. Note that these steps are not strictly sequential, and at any point along the pipeline we can go back to a previous step to help with later steps."
   ]
  },
  {
   "cell_type": "markdown",
   "metadata": {
    "id": "KI0H72xcotSt"
   },
   "source": [
    "# Preliminary Set Up"
   ]
  },
  {
   "cell_type": "markdown",
   "metadata": {
    "id": "96nBg_E8o9HD"
   },
   "source": [
    "Througout our analysis we will be using python code to help us. Before we can begin, we'll import all of the packages that will be used throughout the project. If you would like to look at any of these packages more in depth, you can find the package's documentation online with a quick search (e.g. googling \"beautifulsoup documentation\" will lead you [here](https://www.crummy.com/software/BeautifulSoup/bs4/doc/))."
   ]
  },
  {
   "cell_type": "code",
   "execution_count": 1,
   "metadata": {
    "colab": {
     "base_uri": "https://localhost:8080/"
    },
    "id": "O6Kc5ugOpA5l",
    "outputId": "3a456edd-e789-44fc-cff6-c137437c085e"
   },
   "outputs": [
    {
     "ename": "WebDriverException",
     "evalue": "Message: 'chromedriver' executable needs to be in PATH. Please see https://sites.google.com/a/chromium.org/chromedriver/home\n",
     "output_type": "error",
     "traceback": [
      "\u001b[0;31m---------------------------------------------------------------------------\u001b[0m",
      "\u001b[0;31mModuleNotFoundError\u001b[0m                       Traceback (most recent call last)",
      "\u001b[0;32m<ipython-input-1-a281dc81bd1b>\u001b[0m in \u001b[0;36m<module>\u001b[0;34m\u001b[0m\n\u001b[1;32m     21\u001b[0m     \u001b[0;32mimport\u001b[0m \u001b[0mrequests\u001b[0m\u001b[0;34m\u001b[0m\u001b[0;34m\u001b[0m\u001b[0m\n\u001b[0;32m---> 22\u001b[0;31m     \u001b[0;32mfrom\u001b[0m \u001b[0mkora\u001b[0m\u001b[0;34m.\u001b[0m\u001b[0mselenium\u001b[0m \u001b[0;32mimport\u001b[0m \u001b[0mwd\u001b[0m\u001b[0;34m\u001b[0m\u001b[0;34m\u001b[0m\u001b[0m\n\u001b[0m\u001b[1;32m     23\u001b[0m \u001b[0;32mexcept\u001b[0m \u001b[0mImportError\u001b[0m\u001b[0;34m:\u001b[0m\u001b[0;34m\u001b[0m\u001b[0;34m\u001b[0m\u001b[0m\n",
      "\u001b[0;31mModuleNotFoundError\u001b[0m: No module named 'kora'",
      "\nDuring handling of the above exception, another exception occurred:\n",
      "\u001b[0;31mFileNotFoundError\u001b[0m                         Traceback (most recent call last)",
      "\u001b[0;32m/opt/conda/lib/python3.8/site-packages/selenium/webdriver/common/service.py\u001b[0m in \u001b[0;36mstart\u001b[0;34m(self)\u001b[0m\n\u001b[1;32m     71\u001b[0m             \u001b[0mcmd\u001b[0m\u001b[0;34m.\u001b[0m\u001b[0mextend\u001b[0m\u001b[0;34m(\u001b[0m\u001b[0mself\u001b[0m\u001b[0;34m.\u001b[0m\u001b[0mcommand_line_args\u001b[0m\u001b[0;34m(\u001b[0m\u001b[0;34m)\u001b[0m\u001b[0;34m)\u001b[0m\u001b[0;34m\u001b[0m\u001b[0;34m\u001b[0m\u001b[0m\n\u001b[0;32m---> 72\u001b[0;31m             self.process = subprocess.Popen(cmd, env=self.env,\n\u001b[0m\u001b[1;32m     73\u001b[0m                                             \u001b[0mclose_fds\u001b[0m\u001b[0;34m=\u001b[0m\u001b[0mplatform\u001b[0m\u001b[0;34m.\u001b[0m\u001b[0msystem\u001b[0m\u001b[0;34m(\u001b[0m\u001b[0;34m)\u001b[0m \u001b[0;34m!=\u001b[0m \u001b[0;34m'Windows'\u001b[0m\u001b[0;34m,\u001b[0m\u001b[0;34m\u001b[0m\u001b[0;34m\u001b[0m\u001b[0m\n",
      "\u001b[0;32m/opt/conda/lib/python3.8/subprocess.py\u001b[0m in \u001b[0;36m__init__\u001b[0;34m(self, args, bufsize, executable, stdin, stdout, stderr, preexec_fn, close_fds, shell, cwd, env, universal_newlines, startupinfo, creationflags, restore_signals, start_new_session, pass_fds, encoding, errors, text)\u001b[0m\n\u001b[1;32m    853\u001b[0m \u001b[0;34m\u001b[0m\u001b[0m\n\u001b[0;32m--> 854\u001b[0;31m             self._execute_child(args, executable, preexec_fn, close_fds,\n\u001b[0m\u001b[1;32m    855\u001b[0m                                 \u001b[0mpass_fds\u001b[0m\u001b[0;34m,\u001b[0m \u001b[0mcwd\u001b[0m\u001b[0;34m,\u001b[0m \u001b[0menv\u001b[0m\u001b[0;34m,\u001b[0m\u001b[0;34m\u001b[0m\u001b[0;34m\u001b[0m\u001b[0m\n",
      "\u001b[0;32m/opt/conda/lib/python3.8/subprocess.py\u001b[0m in \u001b[0;36m_execute_child\u001b[0;34m(self, args, executable, preexec_fn, close_fds, pass_fds, cwd, env, startupinfo, creationflags, shell, p2cread, p2cwrite, c2pread, c2pwrite, errread, errwrite, restore_signals, start_new_session)\u001b[0m\n\u001b[1;32m   1701\u001b[0m                         \u001b[0merr_msg\u001b[0m \u001b[0;34m=\u001b[0m \u001b[0mos\u001b[0m\u001b[0;34m.\u001b[0m\u001b[0mstrerror\u001b[0m\u001b[0;34m(\u001b[0m\u001b[0merrno_num\u001b[0m\u001b[0;34m)\u001b[0m\u001b[0;34m\u001b[0m\u001b[0;34m\u001b[0m\u001b[0m\n\u001b[0;32m-> 1702\u001b[0;31m                     \u001b[0;32mraise\u001b[0m \u001b[0mchild_exception_type\u001b[0m\u001b[0;34m(\u001b[0m\u001b[0merrno_num\u001b[0m\u001b[0;34m,\u001b[0m \u001b[0merr_msg\u001b[0m\u001b[0;34m,\u001b[0m \u001b[0merr_filename\u001b[0m\u001b[0;34m)\u001b[0m\u001b[0;34m\u001b[0m\u001b[0;34m\u001b[0m\u001b[0m\n\u001b[0m\u001b[1;32m   1703\u001b[0m                 \u001b[0;32mraise\u001b[0m \u001b[0mchild_exception_type\u001b[0m\u001b[0;34m(\u001b[0m\u001b[0merr_msg\u001b[0m\u001b[0;34m)\u001b[0m\u001b[0;34m\u001b[0m\u001b[0;34m\u001b[0m\u001b[0m\n",
      "\u001b[0;31mFileNotFoundError\u001b[0m: [Errno 2] No such file or directory: 'chromedriver'",
      "\nDuring handling of the above exception, another exception occurred:\n",
      "\u001b[0;31mWebDriverException\u001b[0m                        Traceback (most recent call last)",
      "\u001b[0;32m<ipython-input-1-a281dc81bd1b>\u001b[0m in \u001b[0;36m<module>\u001b[0;34m\u001b[0m\n\u001b[1;32m     23\u001b[0m \u001b[0;32mexcept\u001b[0m \u001b[0mImportError\u001b[0m\u001b[0;34m:\u001b[0m\u001b[0;34m\u001b[0m\u001b[0;34m\u001b[0m\u001b[0m\n\u001b[1;32m     24\u001b[0m     \u001b[0mget_ipython\u001b[0m\u001b[0;34m(\u001b[0m\u001b[0;34m)\u001b[0m\u001b[0;34m.\u001b[0m\u001b[0msystem\u001b[0m\u001b[0;34m(\u001b[0m\u001b[0;34m'pip install kora -q'\u001b[0m\u001b[0;34m)\u001b[0m\u001b[0;34m\u001b[0m\u001b[0;34m\u001b[0m\u001b[0m\n\u001b[0;32m---> 25\u001b[0;31m     \u001b[0;32mfrom\u001b[0m \u001b[0mkora\u001b[0m\u001b[0;34m.\u001b[0m\u001b[0mselenium\u001b[0m \u001b[0;32mimport\u001b[0m \u001b[0mwd\u001b[0m\u001b[0;34m\u001b[0m\u001b[0;34m\u001b[0m\u001b[0m\n\u001b[0m",
      "\u001b[0;32m/opt/conda/lib/python3.8/site-packages/kora/selenium.py\u001b[0m in \u001b[0;36m<module>\u001b[0;34m\u001b[0m\n\u001b[1;32m     11\u001b[0m \u001b[0moptions\u001b[0m\u001b[0;34m.\u001b[0m\u001b[0madd_argument\u001b[0m\u001b[0;34m(\u001b[0m\u001b[0;34m'--disable-dev-shm-usage'\u001b[0m\u001b[0;34m)\u001b[0m\u001b[0;34m\u001b[0m\u001b[0;34m\u001b[0m\u001b[0m\n\u001b[1;32m     12\u001b[0m \u001b[0;31m# create a webdriver instance, ready to use\u001b[0m\u001b[0;34m\u001b[0m\u001b[0;34m\u001b[0m\u001b[0;34m\u001b[0m\u001b[0m\n\u001b[0;32m---> 13\u001b[0;31m \u001b[0mwd\u001b[0m \u001b[0;34m=\u001b[0m \u001b[0mwebdriver\u001b[0m\u001b[0;34m.\u001b[0m\u001b[0mChrome\u001b[0m\u001b[0;34m(\u001b[0m\u001b[0;34m'chromedriver'\u001b[0m\u001b[0;34m,\u001b[0m\u001b[0moptions\u001b[0m\u001b[0;34m=\u001b[0m\u001b[0moptions\u001b[0m\u001b[0;34m)\u001b[0m\u001b[0;34m\u001b[0m\u001b[0;34m\u001b[0m\u001b[0m\n\u001b[0m\u001b[1;32m     14\u001b[0m \u001b[0;34m\u001b[0m\u001b[0m\n\u001b[1;32m     15\u001b[0m \u001b[0;31m# make it easier to query and explore elements\u001b[0m\u001b[0;34m\u001b[0m\u001b[0;34m\u001b[0m\u001b[0;34m\u001b[0m\u001b[0m\n",
      "\u001b[0;32m/opt/conda/lib/python3.8/site-packages/selenium/webdriver/chrome/webdriver.py\u001b[0m in \u001b[0;36m__init__\u001b[0;34m(self, executable_path, port, options, service_args, desired_capabilities, service_log_path, chrome_options, keep_alive)\u001b[0m\n\u001b[1;32m     71\u001b[0m             \u001b[0mservice_args\u001b[0m\u001b[0;34m=\u001b[0m\u001b[0mservice_args\u001b[0m\u001b[0;34m,\u001b[0m\u001b[0;34m\u001b[0m\u001b[0;34m\u001b[0m\u001b[0m\n\u001b[1;32m     72\u001b[0m             log_path=service_log_path)\n\u001b[0;32m---> 73\u001b[0;31m         \u001b[0mself\u001b[0m\u001b[0;34m.\u001b[0m\u001b[0mservice\u001b[0m\u001b[0;34m.\u001b[0m\u001b[0mstart\u001b[0m\u001b[0;34m(\u001b[0m\u001b[0;34m)\u001b[0m\u001b[0;34m\u001b[0m\u001b[0;34m\u001b[0m\u001b[0m\n\u001b[0m\u001b[1;32m     74\u001b[0m \u001b[0;34m\u001b[0m\u001b[0m\n\u001b[1;32m     75\u001b[0m         \u001b[0;32mtry\u001b[0m\u001b[0;34m:\u001b[0m\u001b[0;34m\u001b[0m\u001b[0;34m\u001b[0m\u001b[0m\n",
      "\u001b[0;32m/opt/conda/lib/python3.8/site-packages/selenium/webdriver/common/service.py\u001b[0m in \u001b[0;36mstart\u001b[0;34m(self)\u001b[0m\n\u001b[1;32m     79\u001b[0m         \u001b[0;32mexcept\u001b[0m \u001b[0mOSError\u001b[0m \u001b[0;32mas\u001b[0m \u001b[0merr\u001b[0m\u001b[0;34m:\u001b[0m\u001b[0;34m\u001b[0m\u001b[0;34m\u001b[0m\u001b[0m\n\u001b[1;32m     80\u001b[0m             \u001b[0;32mif\u001b[0m \u001b[0merr\u001b[0m\u001b[0;34m.\u001b[0m\u001b[0merrno\u001b[0m \u001b[0;34m==\u001b[0m \u001b[0merrno\u001b[0m\u001b[0;34m.\u001b[0m\u001b[0mENOENT\u001b[0m\u001b[0;34m:\u001b[0m\u001b[0;34m\u001b[0m\u001b[0;34m\u001b[0m\u001b[0m\n\u001b[0;32m---> 81\u001b[0;31m                 raise WebDriverException(\n\u001b[0m\u001b[1;32m     82\u001b[0m                     \"'%s' executable needs to be in PATH. %s\" % (\n\u001b[1;32m     83\u001b[0m                         os.path.basename(self.path), self.start_error_message)\n",
      "\u001b[0;31mWebDriverException\u001b[0m: Message: 'chromedriver' executable needs to be in PATH. Please see https://sites.google.com/a/chromium.org/chromedriver/home\n"
     ]
    }
   ],
   "source": [
    "try:\n",
    "    # Utility\n",
    "    from IPython.display import display, Latex\n",
    "    import time\n",
    "    import re\n",
    "\n",
    "    # Data handling\n",
    "    import numpy as np\n",
    "    import pandas as pd\n",
    "\n",
    "    # Plotting\n",
    "    import matplotlib.pyplot as plt\n",
    "    import seaborn as sns\n",
    "\n",
    "    # Statistics and maching learning\n",
    "    import statsmodels.api as sm\n",
    "    from sklearn.linear_model import LinearRegression\n",
    "\n",
    "    # Web scraping\n",
    "    from bs4 import BeautifulSoup\n",
    "    import requests\n",
    "    from kora.selenium import wd\n",
    "except ImportError:\n",
    "    !pip install kora -q\n",
    "    from kora.selenium import wd"
   ]
  },
  {
   "cell_type": "markdown",
   "metadata": {
    "id": "_NsGPcpRpgYT"
   },
   "source": [
    "# Grabbing the Data"
   ]
  },
  {
   "cell_type": "markdown",
   "metadata": {
    "id": "GNwBFGIZpmgL"
   },
   "source": [
    "So, let's begin with some data science! In order to be able to apply data science, we will first need to get sample data that we can analyze. There are typically a few ways to get data, ranging from easy methods like finding online datasets on websites such as [Github](https://github.com/awesomedata/awesome-public-datasets) or [Kaggle](https://www.kaggle.com/datasets), to more involved such as web scraping, or even collecting your own data.\n",
    "\n",
    "Unfortunately, despite the vast growth in disc golf lately, the data collection for disc golf has not stayed up to par. There are not many easily accessible data sets for disc golf that are available online. However, there are still websites that do keep track of data for disc golf, but we'll have to do some extra work to get that data. For this analysis, the data for player statistics will come from [UDisc Live](https://udisclive.com/), while the player ratings will be pulled directly from the [PDGA](https://www.pdga.com/). \n",
    "\n",
    "Since the data from both of these sites is not already availiable as a public data set, we'll use web scraping to get the data directly from the websites' code. For the PDGA website, we will be able to extract the data directly from the site's HTML. However, getting the data from UDisc will be a bit more complicated. Unfortunately, there are some complications with UDisc since the website renders their webpage through javascript scripts so we will have to use selenium (actually, [kora.selenium](https://gist.github.com/korakot/5c8e21a5af63966d80a676af0ce15067) since it automatically takes care of all of the setup for selenium in our python notebook), otherwise we would only be able to see the HTML from before the scripts are run, not after, so we wouldn't see the data."
   ]
  },
  {
   "cell_type": "code",
   "execution_count": 20,
   "metadata": {
    "colab": {
     "base_uri": "https://localhost:8080/",
     "height": 419
    },
    "id": "HrBC1kbik2vC",
    "outputId": "ff4f616b-2fe8-4ca2-876d-bc74c35a7823"
   },
   "outputs": [
    {
     "data": {
      "text/html": [
       "<div>\n",
       "<style scoped>\n",
       "    .dataframe tbody tr th:only-of-type {\n",
       "        vertical-align: middle;\n",
       "    }\n",
       "\n",
       "    .dataframe tbody tr th {\n",
       "        vertical-align: top;\n",
       "    }\n",
       "\n",
       "    .dataframe thead th {\n",
       "        text-align: right;\n",
       "    }\n",
       "</style>\n",
       "<table border=\"1\" class=\"dataframe\">\n",
       "  <thead>\n",
       "    <tr style=\"text-align: right;\">\n",
       "      <th></th>\n",
       "      <th>Player Rating</th>\n",
       "      <th>Name</th>\n",
       "      <th>Fairway Hits</th>\n",
       "      <th>Circle 1 in Reg</th>\n",
       "      <th>Circle 2 in Reg</th>\n",
       "      <th>Circle 1x Putting</th>\n",
       "      <th>Circle 2 Putting</th>\n",
       "    </tr>\n",
       "  </thead>\n",
       "  <tbody>\n",
       "    <tr>\n",
       "      <th>0</th>\n",
       "      <td>1056</td>\n",
       "      <td>Ricky Wysocki</td>\n",
       "      <td>78%</td>\n",
       "      <td>57%</td>\n",
       "      <td>75%</td>\n",
       "      <td>89%</td>\n",
       "      <td>30%</td>\n",
       "    </tr>\n",
       "    <tr>\n",
       "      <th>1</th>\n",
       "      <td>1051</td>\n",
       "      <td>Paul McBeth</td>\n",
       "      <td>81%</td>\n",
       "      <td>57%</td>\n",
       "      <td>78%</td>\n",
       "      <td>82%</td>\n",
       "      <td>36%</td>\n",
       "    </tr>\n",
       "    <tr>\n",
       "      <th>2</th>\n",
       "      <td>1050</td>\n",
       "      <td>Eagle McMahon</td>\n",
       "      <td>81%</td>\n",
       "      <td>51%</td>\n",
       "      <td>74%</td>\n",
       "      <td>87%</td>\n",
       "      <td>38%</td>\n",
       "    </tr>\n",
       "    <tr>\n",
       "      <th>3</th>\n",
       "      <td>1052</td>\n",
       "      <td>Calvin Heimburg</td>\n",
       "      <td>78%</td>\n",
       "      <td>55%</td>\n",
       "      <td>75%</td>\n",
       "      <td>83%</td>\n",
       "      <td>30%</td>\n",
       "    </tr>\n",
       "    <tr>\n",
       "      <th>4</th>\n",
       "      <td>1036</td>\n",
       "      <td>Drew Gibson</td>\n",
       "      <td>81%</td>\n",
       "      <td>49%</td>\n",
       "      <td>75%</td>\n",
       "      <td>80%</td>\n",
       "      <td>27%</td>\n",
       "    </tr>\n",
       "    <tr>\n",
       "      <th>...</th>\n",
       "      <td>...</td>\n",
       "      <td>...</td>\n",
       "      <td>...</td>\n",
       "      <td>...</td>\n",
       "      <td>...</td>\n",
       "      <td>...</td>\n",
       "      <td>...</td>\n",
       "    </tr>\n",
       "    <tr>\n",
       "      <th>99</th>\n",
       "      <td>973</td>\n",
       "      <td>William Schram</td>\n",
       "      <td>62%</td>\n",
       "      <td>25%</td>\n",
       "      <td>45%</td>\n",
       "      <td>80%</td>\n",
       "      <td>11%</td>\n",
       "    </tr>\n",
       "    <tr>\n",
       "      <th>100</th>\n",
       "      <td>953</td>\n",
       "      <td>Daniel Ainsworth</td>\n",
       "      <td>57%</td>\n",
       "      <td>26%</td>\n",
       "      <td>48%</td>\n",
       "      <td>68%</td>\n",
       "      <td>6%</td>\n",
       "    </tr>\n",
       "    <tr>\n",
       "      <th>101</th>\n",
       "      <td>989</td>\n",
       "      <td>Mike Carman</td>\n",
       "      <td>66%</td>\n",
       "      <td>24%</td>\n",
       "      <td>49%</td>\n",
       "      <td>70%</td>\n",
       "      <td>11%</td>\n",
       "    </tr>\n",
       "    <tr>\n",
       "      <th>102</th>\n",
       "      <td>987</td>\n",
       "      <td>Christian Olsen</td>\n",
       "      <td>66%</td>\n",
       "      <td>27%</td>\n",
       "      <td>49%</td>\n",
       "      <td>63%</td>\n",
       "      <td>13%</td>\n",
       "    </tr>\n",
       "    <tr>\n",
       "      <th>103</th>\n",
       "      <td>959</td>\n",
       "      <td>Mark McAlister</td>\n",
       "      <td>54%</td>\n",
       "      <td>20%</td>\n",
       "      <td>37%</td>\n",
       "      <td>69%</td>\n",
       "      <td>8%</td>\n",
       "    </tr>\n",
       "  </tbody>\n",
       "</table>\n",
       "<p>104 rows × 7 columns</p>\n",
       "</div>"
      ],
      "text/plain": [
       "     Player Rating              Name  ... Circle 1x Putting Circle 2 Putting\n",
       "0             1056     Ricky Wysocki  ...               89%              30%\n",
       "1             1051       Paul McBeth  ...               82%              36%\n",
       "2             1050     Eagle McMahon  ...               87%              38%\n",
       "3             1052   Calvin Heimburg  ...               83%              30%\n",
       "4             1036       Drew Gibson  ...               80%              27%\n",
       "..             ...               ...  ...               ...              ...\n",
       "99             973    William Schram  ...               80%              11%\n",
       "100            953  Daniel Ainsworth  ...               68%               6%\n",
       "101            989       Mike Carman  ...               70%              11%\n",
       "102            987   Christian Olsen  ...               63%              13%\n",
       "103            959    Mark McAlister  ...               69%               8%\n",
       "\n",
       "[104 rows x 7 columns]"
      ]
     },
     "execution_count": 20,
     "metadata": {
      "tags": []
     },
     "output_type": "execute_result"
    }
   ],
   "source": [
    "# We will use kora.selenium's webdriver to visit the UDisc live\n",
    "# page so that we can scrape the data\n",
    "url = 'https://udisclive.com/players?d=MPO&t=stats&z=season'\n",
    "wd.get(url)\n",
    "\n",
    "# Wait a second after visiting the page before trying to grab the html\n",
    "# This ensures the page is able to load properly, otherwise we wouldn't \n",
    "# get the proper html back\n",
    "time.sleep(1)\n",
    "\n",
    "# Store the webpage's html and create a BeautifulSoup object so\n",
    "# we can more easily parse the html we get back\n",
    "html = wd.page_source\n",
    "html = BeautifulSoup(html, 'html.parser')\n",
    "\n",
    "# The data we want is hidden in a div with id main-content\n",
    "content = html.find('div', attrs={'id': 'main-content'})\n",
    "\n",
    "# The players names are in a tags, while the stats are in spans\n",
    "a_tags = content.find_all('a')\n",
    "span_tags = content.find_all('span')\n",
    "\n",
    "# Just grab the tag contents since we don't need the tag itself\n",
    "players = [x.contents[0] for x in a_tags]\n",
    "stats = [x.contents[0] for x in span_tags]\n",
    "\n",
    "# Delete the 'Stats Definitions and Explanations' at the end of the list\n",
    "del players[-1]\n",
    "\n",
    "# We don't need the actual names of the statistics right now, we'll\n",
    "# deal with those later when we create the dataframe\n",
    "for i in range(0, 5):\n",
    "    del stats[0]\n",
    "\n",
    "# Convert the stats list to a numpy array so that we can easily reshape\n",
    "# it to get a multi-dimensional array corresponding to each player's stats\n",
    "stats = np.asarray(stats)\n",
    "stats = stats.reshape(len(stats) // 5, 5)\n",
    "\n",
    "# Now we need to get player ratings from the PDGA player search\n",
    "player_ratings = []\n",
    "\n",
    "# For each player we will scrape the player search page and find the highest \n",
    "# rating for each search, since our players are the top professionals, their\n",
    "# rating will be the highest one \n",
    "for player in players:\n",
    "    # Some players have different names listed on Udisc and PDGA, so we\n",
    "    # need to correct for that before starting the scraping\n",
    "    if player == 'Ricky Wysocki':\n",
    "    player = 'Richard Wysocki'\n",
    "    if player == 'Jake Hebenheimer':\n",
    "    player = 'Jason Hebenheimer'\n",
    "    if player == 'GT Hancock':\n",
    "    player = 'G.T. Hancock'\n",
    "    if player == 'John Bryan Willis II':\n",
    "    player = 'John Willis'\n",
    "    if player == 'Loren J Lewis':\n",
    "    player = 'Loren Lewis'\n",
    "\n",
    "    # Split the player's name into first and last name so that we can fill \n",
    "    # in those fields in the URL\n",
    "    player = player.split(' ')\n",
    "    html = requests.get(f'https://www.pdga.com/players?FirstName={player[0]}&LastName={player[1]}')\n",
    "\n",
    "    # Parse the html, looking for all the html tag corresponding to player ratings\n",
    "    html = BeautifulSoup(html.text, 'html.parser')\n",
    "    ratings = html.find_all('td', class_='views-field views-field-Rating-1 views-align-center')\n",
    "    ratings =  [int(x.contents[0]) for x in ratings if x.contents[0] != '\\n']\n",
    "\n",
    "    # Add the max rating that appeared in the search to our player_ratings list\n",
    "    player_ratings.append(max(ratings))\n",
    "\n",
    "# Now we can loop through and combine the two arrays we created into one,\n",
    "# along with the player's rank so that each player has their own list in \n",
    "# player_stats \n",
    "player_stats = []\n",
    "for i in range(0, len(players)):\n",
    "    # Add the player's rank to the list\n",
    "    player = [player_ratings[i]]\n",
    "\n",
    "    # Add the player name to the list \n",
    "    player.append(players[i])\n",
    "\n",
    "    # Add each of the 5 stats to the player's list too\n",
    "    for j in range(0, len(stats[0])):\n",
    "    player.append(stats[i][j])\n",
    "\n",
    "    # Now add the player and their stats to player_stats\n",
    "    player_stats.append(player)\n",
    "\n",
    "# We now have all the data we need in a nice format, so we create a pandas\n",
    "# dataframe to sore our data along with the names of the columns\n",
    "player_stats = pd.DataFrame(player_stats, columns=['Player Rating', 'Name', 'Fairway Hits', 'Circle 1 in Reg', 'Circle 2 in Reg', 'Circle 1x Putting', 'Circle 2 Putting'])\n",
    "player_stats"
   ]
  },
  {
   "cell_type": "markdown",
   "metadata": {
    "id": "dgldZ4q6X8Ph"
   },
   "source": [
    "Voila, we now have the ratings and some stats for 103 professional disc golfers, including some of the best in the entire game. We weren't able to get all of the stats on UDisc, but we were able to get stats pertaining to the two most important parts of the game - driving and putting. Let's make sure we understand what these stats actually mean before we move on (note all of our stats except player rating are a percentage). \n",
    "\n",
    "* Player rating $\\rightarrow$ A number assigned to a player for their performance in official rounds. Better rounds = higher rating. \n",
    "* Fairway hits $\\rightarrow$ The percentage of drives that land on the fairway.\n",
    "* Circle 1 in regulation $\\rightarrow$ Throwing a shot into circle 1 (within 10 meters of the basket) with two more strokes until par.\n",
    "* Circle 2 in regulation $\\rightarrow$ Throwing a shot into circle 2 (within 20 meters) with two strokes until par.\n",
    "* Circle 1x putting $\\rightarrow$ Putts made from 3.3 to 10 meters to the basket.\n",
    "* Circle 2 putting $\\rightarrow$ Putts made from 10 to 20 meters to the basket.\n",
    "\n",
    "For more information about the player ratings look [here](https://www.pdga.com/ratings), and to learn more about the disc golf stats look [here](https://udisclive.com/about).\n"
   ]
  },
  {
   "cell_type": "markdown",
   "metadata": {
    "id": "Fw7cNj-yn4qM"
   },
   "source": [
    "# Cleaning the Data "
   ]
  },
  {
   "cell_type": "markdown",
   "metadata": {
    "id": "X5z1SDA2vKHv"
   },
   "source": [
    "A common saying in data science is \"garbage in, garbage out\". This refers to the data that is used in analyses. If bad data is used, then your analysis will likely end up bad too. Our data is already pretty clean, so this step will be relatively simple. We aren't missing any data so we don't need to worry about dealing with missing values, so all we need to do is some simple data conversions to make the data easier to work with later on."
   ]
  },
  {
   "cell_type": "code",
   "execution_count": 21,
   "metadata": {
    "colab": {
     "base_uri": "https://localhost:8080/",
     "height": 419
    },
    "id": "SjQEm0fjvYn5",
    "outputId": "1a8ddc58-2185-4840-e5b3-4ef3cad70c60"
   },
   "outputs": [
    {
     "data": {
      "text/html": [
       "<div>\n",
       "<style scoped>\n",
       "    .dataframe tbody tr th:only-of-type {\n",
       "        vertical-align: middle;\n",
       "    }\n",
       "\n",
       "    .dataframe tbody tr th {\n",
       "        vertical-align: top;\n",
       "    }\n",
       "\n",
       "    .dataframe thead th {\n",
       "        text-align: right;\n",
       "    }\n",
       "</style>\n",
       "<table border=\"1\" class=\"dataframe\">\n",
       "  <thead>\n",
       "    <tr style=\"text-align: right;\">\n",
       "      <th></th>\n",
       "      <th>Player Rating</th>\n",
       "      <th>Name</th>\n",
       "      <th>Fairway Hits</th>\n",
       "      <th>Circle 1 in Reg</th>\n",
       "      <th>Circle 2 in Reg</th>\n",
       "      <th>Circle 1x Putting</th>\n",
       "      <th>Circle 2 Putting</th>\n",
       "    </tr>\n",
       "  </thead>\n",
       "  <tbody>\n",
       "    <tr>\n",
       "      <th>0</th>\n",
       "      <td>1056</td>\n",
       "      <td>Ricky Wysocki</td>\n",
       "      <td>78</td>\n",
       "      <td>57</td>\n",
       "      <td>75</td>\n",
       "      <td>89</td>\n",
       "      <td>30</td>\n",
       "    </tr>\n",
       "    <tr>\n",
       "      <th>1</th>\n",
       "      <td>1051</td>\n",
       "      <td>Paul McBeth</td>\n",
       "      <td>81</td>\n",
       "      <td>57</td>\n",
       "      <td>78</td>\n",
       "      <td>82</td>\n",
       "      <td>36</td>\n",
       "    </tr>\n",
       "    <tr>\n",
       "      <th>2</th>\n",
       "      <td>1050</td>\n",
       "      <td>Eagle McMahon</td>\n",
       "      <td>81</td>\n",
       "      <td>51</td>\n",
       "      <td>74</td>\n",
       "      <td>87</td>\n",
       "      <td>38</td>\n",
       "    </tr>\n",
       "    <tr>\n",
       "      <th>3</th>\n",
       "      <td>1052</td>\n",
       "      <td>Calvin Heimburg</td>\n",
       "      <td>78</td>\n",
       "      <td>55</td>\n",
       "      <td>75</td>\n",
       "      <td>83</td>\n",
       "      <td>30</td>\n",
       "    </tr>\n",
       "    <tr>\n",
       "      <th>4</th>\n",
       "      <td>1036</td>\n",
       "      <td>Drew Gibson</td>\n",
       "      <td>81</td>\n",
       "      <td>49</td>\n",
       "      <td>75</td>\n",
       "      <td>80</td>\n",
       "      <td>27</td>\n",
       "    </tr>\n",
       "    <tr>\n",
       "      <th>...</th>\n",
       "      <td>...</td>\n",
       "      <td>...</td>\n",
       "      <td>...</td>\n",
       "      <td>...</td>\n",
       "      <td>...</td>\n",
       "      <td>...</td>\n",
       "      <td>...</td>\n",
       "    </tr>\n",
       "    <tr>\n",
       "      <th>99</th>\n",
       "      <td>973</td>\n",
       "      <td>William Schram</td>\n",
       "      <td>62</td>\n",
       "      <td>25</td>\n",
       "      <td>45</td>\n",
       "      <td>80</td>\n",
       "      <td>11</td>\n",
       "    </tr>\n",
       "    <tr>\n",
       "      <th>100</th>\n",
       "      <td>953</td>\n",
       "      <td>Daniel Ainsworth</td>\n",
       "      <td>57</td>\n",
       "      <td>26</td>\n",
       "      <td>48</td>\n",
       "      <td>68</td>\n",
       "      <td>6</td>\n",
       "    </tr>\n",
       "    <tr>\n",
       "      <th>101</th>\n",
       "      <td>989</td>\n",
       "      <td>Mike Carman</td>\n",
       "      <td>66</td>\n",
       "      <td>24</td>\n",
       "      <td>49</td>\n",
       "      <td>70</td>\n",
       "      <td>11</td>\n",
       "    </tr>\n",
       "    <tr>\n",
       "      <th>102</th>\n",
       "      <td>987</td>\n",
       "      <td>Christian Olsen</td>\n",
       "      <td>66</td>\n",
       "      <td>27</td>\n",
       "      <td>49</td>\n",
       "      <td>63</td>\n",
       "      <td>13</td>\n",
       "    </tr>\n",
       "    <tr>\n",
       "      <th>103</th>\n",
       "      <td>959</td>\n",
       "      <td>Mark McAlister</td>\n",
       "      <td>54</td>\n",
       "      <td>20</td>\n",
       "      <td>37</td>\n",
       "      <td>69</td>\n",
       "      <td>8</td>\n",
       "    </tr>\n",
       "  </tbody>\n",
       "</table>\n",
       "<p>104 rows × 7 columns</p>\n",
       "</div>"
      ],
      "text/plain": [
       "     Player Rating              Name  ...  Circle 1x Putting  Circle 2 Putting\n",
       "0             1056     Ricky Wysocki  ...                 89                30\n",
       "1             1051       Paul McBeth  ...                 82                36\n",
       "2             1050     Eagle McMahon  ...                 87                38\n",
       "3             1052   Calvin Heimburg  ...                 83                30\n",
       "4             1036       Drew Gibson  ...                 80                27\n",
       "..             ...               ...  ...                ...               ...\n",
       "99             973    William Schram  ...                 80                11\n",
       "100            953  Daniel Ainsworth  ...                 68                 6\n",
       "101            989       Mike Carman  ...                 70                11\n",
       "102            987   Christian Olsen  ...                 63                13\n",
       "103            959    Mark McAlister  ...                 69                 8\n",
       "\n",
       "[104 rows x 7 columns]"
      ]
     },
     "execution_count": 21,
     "metadata": {
      "tags": []
     },
     "output_type": "execute_result"
    }
   ],
   "source": [
    "# Let's create a deep copy of our dataframe so we still have the original\n",
    "# if we need it later\n",
    "clean_player_stats = player_stats.copy(deep=True)\n",
    "\n",
    "# Loop through each row in our dataframe and update the statistical categories\n",
    "# using regex to get rid of the % sign\n",
    "for index, row in clean_player_stats.iterrows():\n",
    "    clean_player_stats.at[index, 'Fairway Hits'] = re.sub('%', '', row['Fairway Hits'])\n",
    "    clean_player_stats.at[index, 'Circle 1 in Reg'] = re.sub('%', '', row['Circle 1 in Reg'])\n",
    "    clean_player_stats.at[index, 'Circle 2 in Reg'] = re.sub('%', '', row['Circle 2 in Reg'])\n",
    "    clean_player_stats.at[index, 'Circle 1x Putting'] = re.sub('%', '', row['Circle 1x Putting'])\n",
    "    clean_player_stats.at[index, 'Circle 2 Putting'] = re.sub('%', '', row['Circle 2 Putting'])\n",
    "\n",
    "# We need to convert the dtype fo each of these columns to int64 from object\n",
    "# in order for our data to be interpereted properly by pandas\n",
    "clean_player_stats['Fairway Hits'] = pd.to_numeric(clean_player_stats['Fairway Hits'])\n",
    "clean_player_stats['Circle 1 in Reg'] = pd.to_numeric(clean_player_stats['Circle 1 in Reg'])\n",
    "clean_player_stats['Circle 2 in Reg'] = pd.to_numeric(clean_player_stats['Circle 2 in Reg'])\n",
    "clean_player_stats['Circle 1x Putting'] = pd.to_numeric(clean_player_stats['Circle 1x Putting'])\n",
    "clean_player_stats['Circle 2 Putting'] = pd.to_numeric(clean_player_stats['Circle 2 Putting'])\n",
    "  \n",
    "clean_player_stats"
   ]
  },
  {
   "cell_type": "markdown",
   "metadata": {
    "id": "sw6vfuVldVVo"
   },
   "source": [
    "Now that our dataframe is looking good, let's discuss how it can help us to answer our question. To quantify how 'good' a professional disc golfer is, we look at the player rating. Then we can use the rest of the statistics"
   ]
  },
  {
   "cell_type": "markdown",
   "metadata": {
    "id": "VNLbs50Cm94V"
   },
   "source": [
    "# Exploratory Data Analysis\n"
   ]
  },
  {
   "cell_type": "markdown",
   "metadata": {
    "id": "7Tq-jFC8nIJ0"
   },
   "source": [
    "So now that we have our data clean and ready, let's see if we can use some data visualization techniques to help explore the data and see if we can get some insights into potential relationships within the dataset. We can start with a heatmap of our columns to see if there is any correlation between a player's rating and the player's stats."
   ]
  },
  {
   "cell_type": "code",
   "execution_count": 22,
   "metadata": {
    "colab": {
     "base_uri": "https://localhost:8080/",
     "height": 662
    },
    "id": "NURkLihqqyi4",
    "outputId": "68d9cb4b-125e-43b3-9ca5-459068343bd4"
   },
   "outputs": [
    {
     "data": {
      "image/png": "[encoded data removed]",
      "text/plain": [
       "<Figure size 1440x792 with 1 Axes>"
      ]
     },
     "metadata": {
      "needs_background": "light",
      "tags": []
     },
     "output_type": "display_data"
    }
   ],
   "source": [
    "# Let's make a heatmap of the dataframe, but we don't need the Name column\n",
    "heatmap_data = clean_player_stats.drop(columns=['Name'])\n",
    "\n",
    "# Create the heatmap from our heatmap_data\n",
    "fig, ax = plt.subplots(figsize=(20,11))\n",
    "sns.heatmap(heatmap_data.corr(), annot=True, cmap='crest', linewidths=1, cbar=False)\n",
    "\n",
    "# Set the title and axes\n",
    "ax.set_title('Column Correlation Heatmap');\n",
    "ax.set_xticklabels(labels=ax.get_xticklabels(), rotation=0)\n",
    "ax.set_yticklabels(labels=ax.get_yticklabels(), rotation=0);"
   ]
  },
  {
   "cell_type": "markdown",
   "metadata": {
    "id": "qflEXbckzYvV"
   },
   "source": [
    "As we can see from the top row of the heatmap, each player stat has a moderate to high correlation with the player rating. Maybe next we can explore what the actual correlations look like with a regression line to help us better see the relationships."
   ]
  },
  {
   "cell_type": "code",
   "execution_count": 23,
   "metadata": {
    "colab": {
     "base_uri": "https://localhost:8080/",
     "height": 1000
    },
    "id": "W-NMZey9zfq0",
    "outputId": "1fa9e648-39cc-4007-f6be-a2b63fcee268"
   },
   "outputs": [
    {
     "data": {
      "image/png": "[encoded data removed]",
      "text/plain": [
       "<Figure size 432x288 with 1 Axes>"
      ]
     },
     "metadata": {
      "needs_background": "light",
      "tags": []
     },
     "output_type": "display_data"
    },
    {
     "data": {
      "image/png": "[encoded data removed]",
      "text/plain": [
       "<Figure size 432x288 with 1 Axes>"
      ]
     },
     "metadata": {
      "needs_background": "light",
      "tags": []
     },
     "output_type": "display_data"
    },
    {
     "data": {
      "image/png": "[encoded data removed]",
      "text/plain": [
       "<Figure size 432x288 with 1 Axes>"
      ]
     },
     "metadata": {
      "needs_background": "light",
      "tags": []
     },
     "output_type": "display_data"
    },
    {
     "data": {
      "image/png": "[encoded data removed]",
      "text/plain": [
       "<Figure size 432x288 with 1 Axes>"
      ]
     },
     "metadata": {
      "needs_background": "light",
      "tags": []
     },
     "output_type": "display_data"
    },
    {
     "data": {
      "image/png": "[encoded data removed]",
      "text/plain": [
       "<Figure size 432x288 with 1 Axes>"
      ]
     },
     "metadata": {
      "needs_background": "light",
      "tags": []
     },
     "output_type": "display_data"
    }
   ],
   "source": [
    "# Define a list of the statistic columns that we want to plot\n",
    "stats = ['Fairway Hits', 'Circle 1 in Reg', 'Circle 2 in Reg', 'Circle 1x Putting', 'Circle 2 Putting']\n",
    "\n",
    "# Plot a scatterplot of Rank vs stats[i] for each of the column names in stats\n",
    "for i in range(0, 5):\n",
    "    fig, ax = plt.subplots()\n",
    "    sns.scatterplot(x='Player Rating', y=stats[i], data=clean_player_stats)\n",
    "    ax.set_title(f'Player Rating vs {stats[i]}')\n",
    "\n",
    "    # Save the x and y data in variables for our linear regression\n",
    "    x = clean_player_stats['Player Rating']\n",
    "    y = clean_player_stats[stats[i]]\n",
    "\n",
    "    # Let's add a linear regression line to help us visualize a potential relationship\n",
    "    reg_line = np.polyfit(x=x, y=y, deg=1)\n",
    "    m, b = np.poly1d(reg_line)\n",
    "    plt.plot(x, m * x + b)"
   ]
  },
  {
   "cell_type": "markdown",
   "metadata": {
    "id": "0whlnk8He3tj"
   },
   "source": [
    "As we can see, some of the player stats like fairway hits and circle 1 in regulation seem to have linear regression lines that fit the data pretty well, while others like circle 1x and circle 2 putting are a little bit more questionable. Next we need to determine if any of these relationships are actually significant."
   ]
  },
  {
   "cell_type": "markdown",
   "metadata": {
    "id": "qqQvHHpVEgH9"
   },
   "source": [
    "# Hypothesis Testing"
   ]
  },
  {
   "cell_type": "markdown",
   "metadata": {
    "id": "rRluK4sAu4tc"
   },
   "source": [
    "Now we know what our data looks like, and we have some understanding of what correlations exist between our variables. So now we can just throw some machine learning at it and call it a day, right? Well, not quite. In order for any further analysis to be meaningful, we need to determine how we determine the significance of our results. This is where hypothesis testing comes in. \n",
    "\n",
    "Hypothesis testing is a statistical method that allows us to evaluate different theories (hypotheses) about a population to determine which is best supported by the data that we collected. To perform the hypothesis testing, we will use the steps outlined [here](https://towardsdatascience.com/hypothesis-testing-explained-as-simply-as-possible-6e0a256293cf#b6fc).\n",
    "\n",
    "First we need to state our hypotheses, which typically consist of a null hypothesis ($H_{0}$), and an altenative hypothesis ($H_{a}$). For our hypothesis testing, we will use the following hypotheses:\n",
    "\n",
    "$ H_{0} \\rightarrow$ There is no significant relationship between player rating and our statistics (fairway hits, circle 1 in regulation, circle 2 in regulation, circle 1x putting, and circle 2 putting).\n",
    "\n",
    "$H_{a} \\rightarrow$ There is a significant relationship between player rating and our statistics (fairway hits, circle 1 in regulation, circle 2 in regulation, circle 1x putting, and circle 2 putting).\n",
    "\n",
    "Next we need to decide what our significance level will be. When choosing the significance level, we need to take into account consequences of each of the two types of errors (read about the two types of errors [here](https://towardsdatascience.com/hypothesis-testing-the-what-why-and-how-867d382b99ca). In our case, the implications of type 1 and 2 errors are approximately equivalent, as neither error will result in major consequences. Since we don't need to prefer one error type over another, I will us $\\alpha$ = 0.11 as suggested by [this article](https://mpra.ub.uni-muenchen.de/66373/1/MPRA_paper_66373.pdf) for a sample size of 100.  \n",
    "\n",
    "In order to continue with the rest of the steps of hypothesis testing, we will need to calculate the p-values. To do that, we will need to use the statsmodel package, which will perform all of the statistical calculations that we need."
   ]
  },
  {
   "cell_type": "code",
   "execution_count": 26,
   "metadata": {
    "colab": {
     "base_uri": "https://localhost:8080/",
     "height": 486
    },
    "id": "CThyvxnGRetq",
    "outputId": "0b807bda-036d-42d1-9dee-6a41e866b1d3"
   },
   "outputs": [
    {
     "data": {
      "text/html": [
       "<table class=\"simpletable\">\n",
       "<caption>OLS Regression Results</caption>\n",
       "<tr>\n",
       "  <th>Dep. Variable:</th>      <td>Player Rating</td>  <th>  R-squared (uncentered):</th>      <td>   0.998</td> \n",
       "</tr>\n",
       "<tr>\n",
       "  <th>Model:</th>                   <td>OLS</td>       <th>  Adj. R-squared (uncentered):</th> <td>   0.998</td> \n",
       "</tr>\n",
       "<tr>\n",
       "  <th>Method:</th>             <td>Least Squares</td>  <th>  F-statistic:       </th>          <td>1.194e+04</td>\n",
       "</tr>\n",
       "<tr>\n",
       "  <th>Date:</th>             <td>Fri, 14 May 2021</td> <th>  Prob (F-statistic):</th>          <td>5.20e-133</td>\n",
       "</tr>\n",
       "<tr>\n",
       "  <th>Time:</th>                 <td>19:37:22</td>     <th>  Log-Likelihood:    </th>          <td> -546.13</td> \n",
       "</tr>\n",
       "<tr>\n",
       "  <th>No. Observations:</th>      <td>   104</td>      <th>  AIC:               </th>          <td>   1100.</td> \n",
       "</tr>\n",
       "<tr>\n",
       "  <th>Df Residuals:</th>          <td>   100</td>      <th>  BIC:               </th>          <td>   1111.</td> \n",
       "</tr>\n",
       "<tr>\n",
       "  <th>Df Model:</th>              <td>     4</td>      <th>                     </th>              <td> </td>    \n",
       "</tr>\n",
       "<tr>\n",
       "  <th>Covariance Type:</th>      <td>nonrobust</td>    <th>                     </th>              <td> </td>    \n",
       "</tr>\n",
       "</table>\n",
       "<table class=\"simpletable\">\n",
       "<tr>\n",
       "          <td></td>             <th>coef</th>     <th>std err</th>      <th>t</th>      <th>P>|t|</th>  <th>[0.025</th>    <th>0.975]</th>  \n",
       "</tr>\n",
       "<tr>\n",
       "  <th>Fairway Hits</th>      <td>   13.7736</td> <td>    1.339</td> <td>   10.286</td> <td> 0.000</td> <td>   11.117</td> <td>   16.430</td>\n",
       "</tr>\n",
       "<tr>\n",
       "  <th>Circle 1 in Reg</th>   <td>   -2.8375</td> <td>    1.626</td> <td>   -1.745</td> <td> 0.084</td> <td>   -6.063</td> <td>    0.388</td>\n",
       "</tr>\n",
       "<tr>\n",
       "  <th>Circle 2 in Reg</th>   <td>   -2.6705</td> <td>    2.021</td> <td>   -1.321</td> <td> 0.189</td> <td>   -6.680</td> <td>    1.339</td>\n",
       "</tr>\n",
       "<tr>\n",
       "  <th>Circle 1x Putting</th> <td>    4.1102</td> <td>    0.602</td> <td>    6.828</td> <td> 0.000</td> <td>    2.916</td> <td>    5.304</td>\n",
       "</tr>\n",
       "</table>\n",
       "<table class=\"simpletable\">\n",
       "<tr>\n",
       "  <th>Omnibus:</th>       <td> 0.424</td> <th>  Durbin-Watson:     </th> <td>   2.107</td>\n",
       "</tr>\n",
       "<tr>\n",
       "  <th>Prob(Omnibus):</th> <td> 0.809</td> <th>  Jarque-Bera (JB):  </th> <td>   0.393</td>\n",
       "</tr>\n",
       "<tr>\n",
       "  <th>Skew:</th>          <td> 0.145</td> <th>  Prob(JB):          </th> <td>   0.822</td>\n",
       "</tr>\n",
       "<tr>\n",
       "  <th>Kurtosis:</th>      <td> 2.919</td> <th>  Cond. No.          </th> <td>    72.8</td>\n",
       "</tr>\n",
       "</table><br/><br/>Warnings:<br/>[1] Standard Errors assume that the covariance matrix of the errors is correctly specified."
      ],
      "text/plain": [
       "<class 'statsmodels.iolib.summary.Summary'>\n",
       "\"\"\"\n",
       "                                 OLS Regression Results                                \n",
       "=======================================================================================\n",
       "Dep. Variable:          Player Rating   R-squared (uncentered):                   0.998\n",
       "Model:                            OLS   Adj. R-squared (uncentered):              0.998\n",
       "Method:                 Least Squares   F-statistic:                          1.194e+04\n",
       "Date:                Fri, 14 May 2021   Prob (F-statistic):                   5.20e-133\n",
       "Time:                        19:37:22   Log-Likelihood:                         -546.13\n",
       "No. Observations:                 104   AIC:                                      1100.\n",
       "Df Residuals:                     100   BIC:                                      1111.\n",
       "Df Model:                           4                                                  \n",
       "Covariance Type:            nonrobust                                                  \n",
       "=====================================================================================\n",
       "                        coef    std err          t      P>|t|      [0.025      0.975]\n",
       "-------------------------------------------------------------------------------------\n",
       "Fairway Hits         13.7736      1.339     10.286      0.000      11.117      16.430\n",
       "Circle 1 in Reg      -2.8375      1.626     -1.745      0.084      -6.063       0.388\n",
       "Circle 2 in Reg      -2.6705      2.021     -1.321      0.189      -6.680       1.339\n",
       "Circle 1x Putting     4.1102      0.602      6.828      0.000       2.916       5.304\n",
       "==============================================================================\n",
       "Omnibus:                        0.424   Durbin-Watson:                   2.107\n",
       "Prob(Omnibus):                  0.809   Jarque-Bera (JB):                0.393\n",
       "Skew:                           0.145   Prob(JB):                        0.822\n",
       "Kurtosis:                       2.919   Cond. No.                         72.8\n",
       "==============================================================================\n",
       "\n",
       "Warnings:\n",
       "[1] Standard Errors assume that the covariance matrix of the errors is correctly specified.\n",
       "\"\"\""
      ]
     },
     "execution_count": 26,
     "metadata": {
      "tags": []
     },
     "output_type": "execute_result"
    }
   ],
   "source": [
    "# Put the independent variables in X, and the dependent variables in y\n",
    "X = clean_player_stats[['Fairway Hits', 'Circle 1 in Reg', 'Circle 2 in Reg', 'Circle 1x Putting', 'Circle 2 Putting']]\n",
    "y = clean_player_stats['Player Rating']\n",
    "\n",
    "# Fit the ordinary least squares linear regression model to the dataset \n",
    "model = sm.OLS(y, X).fit()\n",
    "\n",
    "# Display the statistics from the model\n",
    "model.summary()"
   ]
  },
  {
   "cell_type": "markdown",
   "metadata": {
    "id": "_mKuBpU3Rg_A"
   },
   "source": [
    "As we can see from the p-values (the P>|t| column), fairway hits, circle 1 in reg, and circle 1x putting are within our $\\alpha$ of 0.11, while circle 2 in reg and circle 2 putting are not. Therefore we should ***not*** reject $H_{0}$. So what do we do now? Remember that the data science pipeline is not a one way street, so let's go back and test new hypotheses with the same $\\alpha$:\n",
    "\n",
    "$ H_{0} \\rightarrow$ There is no significant relationship between player rating and our statistics (fairway hits, circle 1 in regulation, and circle 1x putting).\n",
    "\n",
    "$H_{a} \\rightarrow$ There is a significant relationship between player rating and our statistics (fairway hits, circle 1 in regulation, and circle 1x putting)."
   ]
  },
  {
   "cell_type": "code",
   "execution_count": 27,
   "metadata": {
    "colab": {
     "base_uri": "https://localhost:8080/",
     "height": 465
    },
    "id": "JMr2qMKPTAWu",
    "outputId": "0c8778fd-5a2d-4511-bb01-ba915e2bdaf2"
   },
   "outputs": [
    {
     "data": {
      "text/html": [
       "<table class=\"simpletable\">\n",
       "<caption>OLS Regression Results</caption>\n",
       "<tr>\n",
       "  <th>Dep. Variable:</th>      <td>Player Rating</td>  <th>  R-squared (uncentered):</th>      <td>   0.998</td> \n",
       "</tr>\n",
       "<tr>\n",
       "  <th>Model:</th>                   <td>OLS</td>       <th>  Adj. R-squared (uncentered):</th> <td>   0.998</td> \n",
       "</tr>\n",
       "<tr>\n",
       "  <th>Method:</th>             <td>Least Squares</td>  <th>  F-statistic:       </th>          <td>1.580e+04</td>\n",
       "</tr>\n",
       "<tr>\n",
       "  <th>Date:</th>             <td>Fri, 14 May 2021</td> <th>  Prob (F-statistic):</th>          <td>9.03e-135</td>\n",
       "</tr>\n",
       "<tr>\n",
       "  <th>Time:</th>                 <td>19:39:14</td>     <th>  Log-Likelihood:    </th>          <td> -547.03</td> \n",
       "</tr>\n",
       "<tr>\n",
       "  <th>No. Observations:</th>      <td>   104</td>      <th>  AIC:               </th>          <td>   1100.</td> \n",
       "</tr>\n",
       "<tr>\n",
       "  <th>Df Residuals:</th>          <td>   101</td>      <th>  BIC:               </th>          <td>   1108.</td> \n",
       "</tr>\n",
       "<tr>\n",
       "  <th>Df Model:</th>              <td>     3</td>      <th>                     </th>              <td> </td>    \n",
       "</tr>\n",
       "<tr>\n",
       "  <th>Covariance Type:</th>      <td>nonrobust</td>    <th>                     </th>              <td> </td>    \n",
       "</tr>\n",
       "</table>\n",
       "<table class=\"simpletable\">\n",
       "<tr>\n",
       "          <td></td>             <th>coef</th>     <th>std err</th>      <th>t</th>      <th>P>|t|</th>  <th>[0.025</th>    <th>0.975]</th>  \n",
       "</tr>\n",
       "<tr>\n",
       "  <th>Fairway Hits</th>      <td>   12.4407</td> <td>    0.884</td> <td>   14.073</td> <td> 0.000</td> <td>   10.687</td> <td>   14.194</td>\n",
       "</tr>\n",
       "<tr>\n",
       "  <th>Circle 1 in Reg</th>   <td>   -4.6142</td> <td>    0.917</td> <td>   -5.030</td> <td> 0.000</td> <td>   -6.434</td> <td>   -2.795</td>\n",
       "</tr>\n",
       "<tr>\n",
       "  <th>Circle 1x Putting</th> <td>    4.0993</td> <td>    0.604</td> <td>    6.786</td> <td> 0.000</td> <td>    2.901</td> <td>    5.298</td>\n",
       "</tr>\n",
       "</table>\n",
       "<table class=\"simpletable\">\n",
       "<tr>\n",
       "  <th>Omnibus:</th>       <td> 0.642</td> <th>  Durbin-Watson:     </th> <td>   2.046</td>\n",
       "</tr>\n",
       "<tr>\n",
       "  <th>Prob(Omnibus):</th> <td> 0.725</td> <th>  Jarque-Bera (JB):  </th> <td>   0.444</td>\n",
       "</tr>\n",
       "<tr>\n",
       "  <th>Skew:</th>          <td> 0.159</td> <th>  Prob(JB):          </th> <td>   0.801</td>\n",
       "</tr>\n",
       "<tr>\n",
       "  <th>Kurtosis:</th>      <td> 3.033</td> <th>  Cond. No.          </th> <td>    29.2</td>\n",
       "</tr>\n",
       "</table><br/><br/>Warnings:<br/>[1] Standard Errors assume that the covariance matrix of the errors is correctly specified."
      ],
      "text/plain": [
       "<class 'statsmodels.iolib.summary.Summary'>\n",
       "\"\"\"\n",
       "                                 OLS Regression Results                                \n",
       "=======================================================================================\n",
       "Dep. Variable:          Player Rating   R-squared (uncentered):                   0.998\n",
       "Model:                            OLS   Adj. R-squared (uncentered):              0.998\n",
       "Method:                 Least Squares   F-statistic:                          1.580e+04\n",
       "Date:                Fri, 14 May 2021   Prob (F-statistic):                   9.03e-135\n",
       "Time:                        19:39:14   Log-Likelihood:                         -547.03\n",
       "No. Observations:                 104   AIC:                                      1100.\n",
       "Df Residuals:                     101   BIC:                                      1108.\n",
       "Df Model:                           3                                                  \n",
       "Covariance Type:            nonrobust                                                  \n",
       "=====================================================================================\n",
       "                        coef    std err          t      P>|t|      [0.025      0.975]\n",
       "-------------------------------------------------------------------------------------\n",
       "Fairway Hits         12.4407      0.884     14.073      0.000      10.687      14.194\n",
       "Circle 1 in Reg      -4.6142      0.917     -5.030      0.000      -6.434      -2.795\n",
       "Circle 1x Putting     4.0993      0.604      6.786      0.000       2.901       5.298\n",
       "==============================================================================\n",
       "Omnibus:                        0.642   Durbin-Watson:                   2.046\n",
       "Prob(Omnibus):                  0.725   Jarque-Bera (JB):                0.444\n",
       "Skew:                           0.159   Prob(JB):                        0.801\n",
       "Kurtosis:                       3.033   Cond. No.                         29.2\n",
       "==============================================================================\n",
       "\n",
       "Warnings:\n",
       "[1] Standard Errors assume that the covariance matrix of the errors is correctly specified.\n",
       "\"\"\""
      ]
     },
     "execution_count": 27,
     "metadata": {
      "tags": []
     },
     "output_type": "execute_result"
    }
   ],
   "source": [
    "# Put the independent variables in X (this time without without circle 2 in reg\n",
    "# and circle 2 putting), and the dependent variables in y\n",
    "X = clean_player_stats[['Fairway Hits', 'Circle 1 in Reg', 'Circle 1x Putting']]\n",
    "y = clean_player_stats['Player Rating']\n",
    "\n",
    "# Fit the ordinary least squares linear regression model to the dataset \n",
    "model = sm.OLS(y, X).fit()\n",
    "\n",
    "# Display the statistics from the model\n",
    "model.summary()"
   ]
  },
  {
   "cell_type": "markdown",
   "metadata": {
    "id": "HKPokShbTJiG"
   },
   "source": [
    "Now that our p-values are within our significance level, we can reject $H_{0}$ and continue on to try to model the relationships that we can now pretty confidently say exist."
   ]
  },
  {
   "cell_type": "markdown",
   "metadata": {
    "id": "B9cbYqTgDkm2"
   },
   "source": [
    "# Machine Learning"
   ]
  },
  {
   "cell_type": "markdown",
   "metadata": {
    "id": "9Ax73YcMDpNY"
   },
   "source": [
    "Now for the fun part. It's time to fit a machine learning model to our data set! As we saw in our exploratory data analysis with the heatmap and scatterplots, our variables each have a moderate to high postitive linear correlation with player rating, and since we know relationships exist between  player rating from $H_{a}$, let's try to fit a multiple linear regression model to our data set. \n",
    "\n",
    "[Linear regression](https://en.wikipedia.org/wiki/Linear_regression#:~:text=In%20statistics%2C%20linear%20regression%20is,as%20dependent%20and%20independent%20variables). is a commonly used predictive model, which determines the impact each of the independent variables (called predictors) has on the dependent variable, in order to calculate a prediction. It uses a simple line equation which you may be familiar with:\n",
    "\n",
    "$y = \\beta_{0} + \\beta_{1}x_{1} + \\beta_{2}x_{2} + ... + \\beta_{n}x_{n} $\n",
    "\n",
    "Here y represents the dependent variable, $\\beta_{i}$'s represent slopes, and the $x_{i}$'s are the independent variable. \n"
   ]
  },
  {
   "cell_type": "code",
   "execution_count": 16,
   "metadata": {
    "colab": {
     "base_uri": "https://localhost:8080/",
     "height": 38
    },
    "id": "_EegA8dODkL0",
    "outputId": "b94f0de1-d422-4e2a-a8dd-996232bff244"
   },
   "outputs": [
    {
     "data": {
      "text/latex": [
       "$y = 845.504 + 0.22x_1 + 1.954x_2 + 0.96x_3$"
      ],
      "text/plain": [
       "<IPython.core.display.Latex object>"
      ]
     },
     "metadata": {
      "tags": []
     },
     "output_type": "display_data"
    }
   ],
   "source": [
    "# Fit a linear regression model to our data\n",
    "lin_reg = LinearRegression().fit(X, y)\n",
    "\n",
    "# Grab the coeffiecients from the model\n",
    "slope = lin_reg.coef_.tolist()\n",
    "intercept = lin_reg.intercept_\n",
    "\n",
    "# Create a string to show the line equation generated from the model\n",
    "i = 0\n",
    "model_eqn = f'$y = {round(intercept, 3)} + '\n",
    "while i < len(slope) - 1:\n",
    "    model_eqn += f'{round(slope[i], 3)}x_{i + 1} + '\n",
    "    i += 1\n",
    "\n",
    "# Display our equation\n",
    "display(Latex(model_eqn + f'{round(slope[i], 3)}x_{i + 1}$'))"
   ]
  },
  {
   "cell_type": "markdown",
   "metadata": {
    "id": "hprC_ZR1ZP8a"
   },
   "source": [
    "What does the equation of our linear regression line mean? Let's break it down:\n",
    "*   845.504 is the y-intercept\n",
    "*   $x_{1}$ corresponds to our fairway hits, and is multiplied by the coefficient 0.22 when trying to predict player rating\n",
    "*   Similarly, $x_{2}$'s (circle 1 in regulation) coefficient is 1.954, and $x_{3}$'s (circle 1x putting) is 0.96. \n",
    "\n",
    "Now some intutition from looking at the equation. The y-intertercept suggests that the base rating of a professional disc golfer if they had 0 in all of our player stats would be 854.504. In our data set, the top professionals have ratings in the 1050s, about 200 rating points higher than the y-intercept, so these player stats do make a big difference. For reference, [here's](https://imgur.com/a/dUM11Dt) a chart created by a redditor back in February of the distribution of PDGA player ratings. We also see that $x_{2}$ has the highest coefficient, which suggests that according to the model, circle 2 in regulation is the biggest contributor to player rating, followed by circle 1x putting, and finally fairway hits. \n"
   ]
  },
  {
   "cell_type": "code",
   "execution_count": 17,
   "metadata": {
    "colab": {
     "base_uri": "https://localhost:8080/"
    },
    "id": "QlyARXqiEfiH",
    "outputId": "47984c49-2e8c-495a-ed99-00325f847a50"
   },
   "outputs": [
    {
     "data": {
      "text/plain": [
       "array([956.65153898])"
      ]
     },
     "execution_count": 17,
     "metadata": {
      "tags": []
     },
     "output_type": "execute_result"
    }
   ],
   "source": [
    "August = np.array([[74, 23, 52]])\n",
    "lin_reg.predict(August)"
   ]
  },
  {
   "cell_type": "code",
   "execution_count": 18,
   "metadata": {
    "colab": {
     "base_uri": "https://localhost:8080/"
    },
    "id": "_PKYgeccla_g",
    "outputId": "255d5a9d-cdc2-48ad-d238-ef70c49174f1"
   },
   "outputs": [
    {
     "data": {
      "text/plain": [
       "array([1053.41717996])"
      ]
     },
     "execution_count": 18,
     "metadata": {
      "tags": []
     },
     "output_type": "execute_result"
    }
   ],
   "source": [
    "McBeth = np.array([[81, 57, 82]])\n",
    "lin_reg.predict(McBeth)"
   ]
  },
  {
   "cell_type": "code",
   "execution_count": 19,
   "metadata": {
    "colab": {
     "base_uri": "https://localhost:8080/"
    },
    "id": "7DDoT6DHlbKX",
    "outputId": "a56aabec-02d6-44c1-efcf-9b0d802bec0f"
   },
   "outputs": [
    {
     "data": {
      "text/plain": [
       "array([946.66436951])"
      ]
     },
     "execution_count": 19,
     "metadata": {
      "tags": []
     },
     "output_type": "execute_result"
    }
   ],
   "source": [
    "Daniel = np.array([[70, 9, 71]])\n",
    "lin_reg.predict(Daniel)"
   ]
  },
  {
   "cell_type": "code",
   "execution_count": 10,
   "metadata": {
    "id": "xxxkssQ5lbSf"
   },
   "outputs": [],
   "source": []
  },
  {
   "cell_type": "code",
   "execution_count": 10,
   "metadata": {
    "id": "V8sEla8JlbWA"
   },
   "outputs": [],
   "source": []
  },
  {
   "cell_type": "code",
   "execution_count": 10,
   "metadata": {
    "id": "F1KS2AaulbZg"
   },
   "outputs": [],
   "source": []
  }
 ],
 "metadata": {
  "colab": {
   "collapsed_sections": [],
   "name": "cmsc320_final.ipynb",
   "provenance": []
  },
  "kernelspec": {
   "display_name": "Python 3",
   "language": "python",
   "name": "python3"
  },
  "language_info": {
   "codemirror_mode": {
    "name": "ipython",
    "version": 3
   },
   "file_extension": ".py",
   "mimetype": "text/x-python",
   "name": "python",
   "nbconvert_exporter": "python",
   "pygments_lexer": "ipython3",
   "version": "3.8.6"
  }
 },
 "nbformat": 4,
 "nbformat_minor": 1
}
